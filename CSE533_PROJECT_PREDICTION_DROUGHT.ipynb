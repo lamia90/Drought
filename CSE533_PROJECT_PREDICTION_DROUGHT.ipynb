{
 "cells": [
  {
   "cell_type": "markdown",
   "metadata": {},
   "source": [
    "# Drought Prediction \n",
    "\n",
    "Data Source- https://www.kaggle.com/cdminix/us-drought-meteorological-data"
   ]
  },
  {
   "cell_type": "markdown",
   "metadata": {},
   "source": [
    "## Importing necessary library"
   ]
  },
  {
   "cell_type": "code",
   "execution_count": 1,
   "metadata": {},
   "outputs": [],
   "source": [
    "#Core library\n",
    "import pandas as pd\n",
    "import numpy as np\n",
    "import matplotlib.pyplot as plt\n",
    "\n",
    "#Sklearn Funtionality\n",
    "from sklearn.model_selection import train_test_split\n",
    "from sklearn.tree import DecisionTreeClassifier\n",
    "from sklearn.ensemble import RandomForestClassifier\n",
    "\n",
    "#evaluation of the model\n",
    "from sklearn.metrics import accuracy_score\n",
    "from sklearn.metrics import classification_report, confusion_matrix"
   ]
  },
  {
   "cell_type": "markdown",
   "metadata": {},
   "source": [
    "## Creating a Pandas DataFrame from a CSV file"
   ]
  },
  {
   "cell_type": "code",
   "execution_count": 2,
   "metadata": {},
   "outputs": [],
   "source": [
    "train_data=pd.read_csv('./drought/train_timeseries.csv')"
   ]
  },
  {
   "cell_type": "code",
   "execution_count": 3,
   "metadata": {
    "scrolled": false
   },
   "outputs": [
    {
     "data": {
      "text/html": [
       "<div>\n",
       "<style scoped>\n",
       "    .dataframe tbody tr th:only-of-type {\n",
       "        vertical-align: middle;\n",
       "    }\n",
       "\n",
       "    .dataframe tbody tr th {\n",
       "        vertical-align: top;\n",
       "    }\n",
       "\n",
       "    .dataframe thead th {\n",
       "        text-align: right;\n",
       "    }\n",
       "</style>\n",
       "<table border=\"1\" class=\"dataframe\">\n",
       "  <thead>\n",
       "    <tr style=\"text-align: right;\">\n",
       "      <th></th>\n",
       "      <th>fips</th>\n",
       "      <th>date</th>\n",
       "      <th>PRECTOT</th>\n",
       "      <th>PS</th>\n",
       "      <th>QV2M</th>\n",
       "      <th>T2M</th>\n",
       "      <th>T2MDEW</th>\n",
       "      <th>T2MWET</th>\n",
       "      <th>T2M_MAX</th>\n",
       "      <th>T2M_MIN</th>\n",
       "      <th>...</th>\n",
       "      <th>TS</th>\n",
       "      <th>WS10M</th>\n",
       "      <th>WS10M_MAX</th>\n",
       "      <th>WS10M_MIN</th>\n",
       "      <th>WS10M_RANGE</th>\n",
       "      <th>WS50M</th>\n",
       "      <th>WS50M_MAX</th>\n",
       "      <th>WS50M_MIN</th>\n",
       "      <th>WS50M_RANGE</th>\n",
       "      <th>score</th>\n",
       "    </tr>\n",
       "  </thead>\n",
       "  <tbody>\n",
       "    <tr>\n",
       "      <th>0</th>\n",
       "      <td>1001</td>\n",
       "      <td>2000-01-01</td>\n",
       "      <td>0.22</td>\n",
       "      <td>100.51</td>\n",
       "      <td>9.65</td>\n",
       "      <td>14.74</td>\n",
       "      <td>13.51</td>\n",
       "      <td>13.51</td>\n",
       "      <td>20.96</td>\n",
       "      <td>11.46</td>\n",
       "      <td>...</td>\n",
       "      <td>14.65</td>\n",
       "      <td>2.20</td>\n",
       "      <td>2.94</td>\n",
       "      <td>1.49</td>\n",
       "      <td>1.46</td>\n",
       "      <td>4.85</td>\n",
       "      <td>6.04</td>\n",
       "      <td>3.23</td>\n",
       "      <td>2.81</td>\n",
       "      <td>NaN</td>\n",
       "    </tr>\n",
       "    <tr>\n",
       "      <th>1</th>\n",
       "      <td>1001</td>\n",
       "      <td>2000-01-02</td>\n",
       "      <td>0.20</td>\n",
       "      <td>100.55</td>\n",
       "      <td>10.42</td>\n",
       "      <td>16.69</td>\n",
       "      <td>14.71</td>\n",
       "      <td>14.71</td>\n",
       "      <td>22.80</td>\n",
       "      <td>12.61</td>\n",
       "      <td>...</td>\n",
       "      <td>16.60</td>\n",
       "      <td>2.52</td>\n",
       "      <td>3.43</td>\n",
       "      <td>1.83</td>\n",
       "      <td>1.60</td>\n",
       "      <td>5.33</td>\n",
       "      <td>6.13</td>\n",
       "      <td>3.72</td>\n",
       "      <td>2.41</td>\n",
       "      <td>NaN</td>\n",
       "    </tr>\n",
       "    <tr>\n",
       "      <th>2</th>\n",
       "      <td>1001</td>\n",
       "      <td>2000-01-03</td>\n",
       "      <td>3.65</td>\n",
       "      <td>100.15</td>\n",
       "      <td>11.76</td>\n",
       "      <td>18.49</td>\n",
       "      <td>16.52</td>\n",
       "      <td>16.52</td>\n",
       "      <td>22.73</td>\n",
       "      <td>15.32</td>\n",
       "      <td>...</td>\n",
       "      <td>18.41</td>\n",
       "      <td>4.03</td>\n",
       "      <td>5.33</td>\n",
       "      <td>2.66</td>\n",
       "      <td>2.67</td>\n",
       "      <td>7.53</td>\n",
       "      <td>9.52</td>\n",
       "      <td>5.87</td>\n",
       "      <td>3.66</td>\n",
       "      <td>NaN</td>\n",
       "    </tr>\n",
       "    <tr>\n",
       "      <th>3</th>\n",
       "      <td>1001</td>\n",
       "      <td>2000-01-04</td>\n",
       "      <td>15.95</td>\n",
       "      <td>100.29</td>\n",
       "      <td>6.42</td>\n",
       "      <td>11.40</td>\n",
       "      <td>6.09</td>\n",
       "      <td>6.10</td>\n",
       "      <td>18.09</td>\n",
       "      <td>2.16</td>\n",
       "      <td>...</td>\n",
       "      <td>11.31</td>\n",
       "      <td>3.84</td>\n",
       "      <td>5.67</td>\n",
       "      <td>2.08</td>\n",
       "      <td>3.59</td>\n",
       "      <td>6.73</td>\n",
       "      <td>9.31</td>\n",
       "      <td>3.74</td>\n",
       "      <td>5.58</td>\n",
       "      <td>1.0</td>\n",
       "    </tr>\n",
       "    <tr>\n",
       "      <th>4</th>\n",
       "      <td>1001</td>\n",
       "      <td>2000-01-05</td>\n",
       "      <td>0.00</td>\n",
       "      <td>101.15</td>\n",
       "      <td>2.95</td>\n",
       "      <td>3.86</td>\n",
       "      <td>-3.29</td>\n",
       "      <td>-3.20</td>\n",
       "      <td>10.82</td>\n",
       "      <td>-2.66</td>\n",
       "      <td>...</td>\n",
       "      <td>2.65</td>\n",
       "      <td>1.60</td>\n",
       "      <td>2.50</td>\n",
       "      <td>0.52</td>\n",
       "      <td>1.98</td>\n",
       "      <td>2.94</td>\n",
       "      <td>4.85</td>\n",
       "      <td>0.65</td>\n",
       "      <td>4.19</td>\n",
       "      <td>NaN</td>\n",
       "    </tr>\n",
       "  </tbody>\n",
       "</table>\n",
       "<p>5 rows × 21 columns</p>\n",
       "</div>"
      ],
      "text/plain": [
       "   fips        date  PRECTOT      PS   QV2M    T2M  T2MDEW  T2MWET  T2M_MAX  \\\n",
       "0  1001  2000-01-01     0.22  100.51   9.65  14.74   13.51   13.51    20.96   \n",
       "1  1001  2000-01-02     0.20  100.55  10.42  16.69   14.71   14.71    22.80   \n",
       "2  1001  2000-01-03     3.65  100.15  11.76  18.49   16.52   16.52    22.73   \n",
       "3  1001  2000-01-04    15.95  100.29   6.42  11.40    6.09    6.10    18.09   \n",
       "4  1001  2000-01-05     0.00  101.15   2.95   3.86   -3.29   -3.20    10.82   \n",
       "\n",
       "   T2M_MIN  ...     TS  WS10M  WS10M_MAX  WS10M_MIN  WS10M_RANGE  WS50M  \\\n",
       "0    11.46  ...  14.65   2.20       2.94       1.49         1.46   4.85   \n",
       "1    12.61  ...  16.60   2.52       3.43       1.83         1.60   5.33   \n",
       "2    15.32  ...  18.41   4.03       5.33       2.66         2.67   7.53   \n",
       "3     2.16  ...  11.31   3.84       5.67       2.08         3.59   6.73   \n",
       "4    -2.66  ...   2.65   1.60       2.50       0.52         1.98   2.94   \n",
       "\n",
       "   WS50M_MAX  WS50M_MIN  WS50M_RANGE  score  \n",
       "0       6.04       3.23         2.81    NaN  \n",
       "1       6.13       3.72         2.41    NaN  \n",
       "2       9.52       5.87         3.66    NaN  \n",
       "3       9.31       3.74         5.58    1.0  \n",
       "4       4.85       0.65         4.19    NaN  \n",
       "\n",
       "[5 rows x 21 columns]"
      ]
     },
     "execution_count": 3,
     "metadata": {},
     "output_type": "execute_result"
    }
   ],
   "source": [
    "train_data.head()"
   ]
  },
  {
   "cell_type": "code",
   "execution_count": 4,
   "metadata": {},
   "outputs": [
    {
     "data": {
      "text/plain": [
       "(19300680, 21)"
      ]
     },
     "execution_count": 4,
     "metadata": {},
     "output_type": "execute_result"
    }
   ],
   "source": [
    "train_data.shape"
   ]
  },
  {
   "cell_type": "code",
   "execution_count": 5,
   "metadata": {},
   "outputs": [
    {
     "data": {
      "text/plain": [
       "fips             int64\n",
       "date            object\n",
       "PRECTOT        float64\n",
       "PS             float64\n",
       "QV2M           float64\n",
       "T2M            float64\n",
       "T2MDEW         float64\n",
       "T2MWET         float64\n",
       "T2M_MAX        float64\n",
       "T2M_MIN        float64\n",
       "T2M_RANGE      float64\n",
       "TS             float64\n",
       "WS10M          float64\n",
       "WS10M_MAX      float64\n",
       "WS10M_MIN      float64\n",
       "WS10M_RANGE    float64\n",
       "WS50M          float64\n",
       "WS50M_MAX      float64\n",
       "WS50M_MIN      float64\n",
       "WS50M_RANGE    float64\n",
       "score          float64\n",
       "dtype: object"
      ]
     },
     "execution_count": 5,
     "metadata": {},
     "output_type": "execute_result"
    }
   ],
   "source": [
    "train_data.dtypes"
   ]
  },
  {
   "cell_type": "code",
   "execution_count": 6,
   "metadata": {},
   "outputs": [
    {
     "data": {
      "text/plain": [
       "Index(['fips', 'date', 'PRECTOT', 'PS', 'QV2M', 'T2M', 'T2MDEW', 'T2MWET',\n",
       "       'T2M_MAX', 'T2M_MIN', 'T2M_RANGE', 'TS', 'WS10M', 'WS10M_MAX',\n",
       "       'WS10M_MIN', 'WS10M_RANGE', 'WS50M', 'WS50M_MAX', 'WS50M_MIN',\n",
       "       'WS50M_RANGE', 'score'],\n",
       "      dtype='object')"
      ]
     },
     "execution_count": 6,
     "metadata": {},
     "output_type": "execute_result"
    }
   ],
   "source": [
    "train_data.columns"
   ]
  },
  {
   "cell_type": "markdown",
   "metadata": {},
   "source": [
    "### Meteorological Indicators\n",
    "\n",
    "\n",
    "* **WS10M_MIN:** Minimum Wind Speed at 10 Meters (m/s)\n",
    "* **QV2M:** Specific Humidity at 2 Meters (g/kg)\n",
    "* **T2M_RANGE:** Temperature Range at 2 Meters (C)\n",
    "* **WS10M:** Wind Speed at 10 Meters (m/s)\n",
    "* **T2M:** Temperature at 2 Meters (C)\n",
    "* **WS50M_MIN:** Minimum Wind Speed at 50 Meters (m/s)\n",
    "* **T2M_MAX:** Maximum Temperature at 2 Meters (C)\n",
    "* **WS50M:** Wind Speed at 50 Meters (m/s)\n",
    "* **TS:** Earth Skin Temperature (C)\n",
    "* **WS50M_RANGE:** Wind Speed Range at 50 Meters (m/s)\n",
    "* **WS50M_MAX:** Maximum Wind Speed at 50 Meters (m/s)\n",
    "* **WS10M_MAX:** Maximum Wind Speed at 10 Meters (m/s)\n",
    "* **WS10M_RANGE:** Wind Speed Range at 10 Meters (m/s)\n",
    "* **PS:** Surface Pressure (kPa)\n",
    "* **T2MDEW:** Dew/Frost Point at 2 Meters (C)\n",
    "* **T2M_MIN:** Minimum Temperature at 2 Meters (C)\n",
    "* **T2MWET:** Wet Bulb Temperature at 2 Meters (C)\n",
    "* **PRECTOT:** Precipitation (mm day-1)"
   ]
  },
  {
   "cell_type": "markdown",
   "metadata": {},
   "source": [
    "## Checking and Cleaning DataSet"
   ]
  },
  {
   "cell_type": "code",
   "execution_count": 3,
   "metadata": {},
   "outputs": [],
   "source": [
    "train_data.insert(loc=0, column='number', value=np.arange(len(train_data)))"
   ]
  },
  {
   "cell_type": "code",
   "execution_count": null,
   "metadata": {},
   "outputs": [],
   "source": [
    "train_data.head()"
   ]
  },
  {
   "cell_type": "code",
   "execution_count": 4,
   "metadata": {},
   "outputs": [
    {
     "data": {
      "text/plain": [
       "(1930068, 22)"
      ]
     },
     "execution_count": 4,
     "metadata": {},
     "output_type": "execute_result"
    }
   ],
   "source": [
    "sampled_train_data = train_data[(train_data['number'] % 10) == 0]\n",
    "sampled_train_data.shape"
   ]
  },
  {
   "cell_type": "code",
   "execution_count": 10,
   "metadata": {
    "scrolled": true
   },
   "outputs": [
    {
     "data": {
      "text/html": [
       "<div>\n",
       "<style scoped>\n",
       "    .dataframe tbody tr th:only-of-type {\n",
       "        vertical-align: middle;\n",
       "    }\n",
       "\n",
       "    .dataframe tbody tr th {\n",
       "        vertical-align: top;\n",
       "    }\n",
       "\n",
       "    .dataframe thead th {\n",
       "        text-align: right;\n",
       "    }\n",
       "</style>\n",
       "<table border=\"1\" class=\"dataframe\">\n",
       "  <thead>\n",
       "    <tr style=\"text-align: right;\">\n",
       "      <th></th>\n",
       "      <th>number</th>\n",
       "      <th>fips</th>\n",
       "      <th>date</th>\n",
       "      <th>PRECTOT</th>\n",
       "      <th>PS</th>\n",
       "      <th>QV2M</th>\n",
       "      <th>T2M</th>\n",
       "      <th>T2MDEW</th>\n",
       "      <th>T2MWET</th>\n",
       "      <th>T2M_MAX</th>\n",
       "      <th>...</th>\n",
       "      <th>TS</th>\n",
       "      <th>WS10M</th>\n",
       "      <th>WS10M_MAX</th>\n",
       "      <th>WS10M_MIN</th>\n",
       "      <th>WS10M_RANGE</th>\n",
       "      <th>WS50M</th>\n",
       "      <th>WS50M_MAX</th>\n",
       "      <th>WS50M_MIN</th>\n",
       "      <th>WS50M_RANGE</th>\n",
       "      <th>score</th>\n",
       "    </tr>\n",
       "  </thead>\n",
       "  <tbody>\n",
       "    <tr>\n",
       "      <th>0</th>\n",
       "      <td>0</td>\n",
       "      <td>1001</td>\n",
       "      <td>2000-01-01</td>\n",
       "      <td>0.22</td>\n",
       "      <td>100.51</td>\n",
       "      <td>9.65</td>\n",
       "      <td>14.74</td>\n",
       "      <td>13.51</td>\n",
       "      <td>13.51</td>\n",
       "      <td>20.96</td>\n",
       "      <td>...</td>\n",
       "      <td>14.65</td>\n",
       "      <td>2.20</td>\n",
       "      <td>2.94</td>\n",
       "      <td>1.49</td>\n",
       "      <td>1.46</td>\n",
       "      <td>4.85</td>\n",
       "      <td>6.04</td>\n",
       "      <td>3.23</td>\n",
       "      <td>2.81</td>\n",
       "      <td>NaN</td>\n",
       "    </tr>\n",
       "    <tr>\n",
       "      <th>10</th>\n",
       "      <td>10</td>\n",
       "      <td>1001</td>\n",
       "      <td>2000-01-11</td>\n",
       "      <td>1.33</td>\n",
       "      <td>100.40</td>\n",
       "      <td>6.63</td>\n",
       "      <td>11.48</td>\n",
       "      <td>7.84</td>\n",
       "      <td>7.84</td>\n",
       "      <td>18.88</td>\n",
       "      <td>...</td>\n",
       "      <td>10.43</td>\n",
       "      <td>1.76</td>\n",
       "      <td>2.48</td>\n",
       "      <td>1.05</td>\n",
       "      <td>1.43</td>\n",
       "      <td>3.55</td>\n",
       "      <td>6.38</td>\n",
       "      <td>1.71</td>\n",
       "      <td>4.67</td>\n",
       "      <td>2.0</td>\n",
       "    </tr>\n",
       "    <tr>\n",
       "      <th>20</th>\n",
       "      <td>20</td>\n",
       "      <td>1001</td>\n",
       "      <td>2000-01-21</td>\n",
       "      <td>0.00</td>\n",
       "      <td>100.81</td>\n",
       "      <td>2.10</td>\n",
       "      <td>-0.32</td>\n",
       "      <td>-7.69</td>\n",
       "      <td>-7.44</td>\n",
       "      <td>6.78</td>\n",
       "      <td>...</td>\n",
       "      <td>-0.21</td>\n",
       "      <td>2.20</td>\n",
       "      <td>3.09</td>\n",
       "      <td>1.56</td>\n",
       "      <td>1.53</td>\n",
       "      <td>4.22</td>\n",
       "      <td>5.00</td>\n",
       "      <td>3.18</td>\n",
       "      <td>1.81</td>\n",
       "      <td>NaN</td>\n",
       "    </tr>\n",
       "    <tr>\n",
       "      <th>30</th>\n",
       "      <td>30</td>\n",
       "      <td>1001</td>\n",
       "      <td>2000-01-31</td>\n",
       "      <td>0.00</td>\n",
       "      <td>100.94</td>\n",
       "      <td>2.81</td>\n",
       "      <td>-0.27</td>\n",
       "      <td>-3.93</td>\n",
       "      <td>-3.88</td>\n",
       "      <td>7.06</td>\n",
       "      <td>...</td>\n",
       "      <td>-0.27</td>\n",
       "      <td>2.09</td>\n",
       "      <td>2.77</td>\n",
       "      <td>1.39</td>\n",
       "      <td>1.37</td>\n",
       "      <td>3.87</td>\n",
       "      <td>5.04</td>\n",
       "      <td>2.90</td>\n",
       "      <td>2.14</td>\n",
       "      <td>NaN</td>\n",
       "    </tr>\n",
       "    <tr>\n",
       "      <th>40</th>\n",
       "      <td>40</td>\n",
       "      <td>1001</td>\n",
       "      <td>2000-02-10</td>\n",
       "      <td>0.00</td>\n",
       "      <td>100.11</td>\n",
       "      <td>6.22</td>\n",
       "      <td>10.41</td>\n",
       "      <td>6.63</td>\n",
       "      <td>6.64</td>\n",
       "      <td>18.85</td>\n",
       "      <td>...</td>\n",
       "      <td>10.27</td>\n",
       "      <td>2.58</td>\n",
       "      <td>3.82</td>\n",
       "      <td>1.62</td>\n",
       "      <td>2.20</td>\n",
       "      <td>5.35</td>\n",
       "      <td>7.41</td>\n",
       "      <td>2.08</td>\n",
       "      <td>5.33</td>\n",
       "      <td>NaN</td>\n",
       "    </tr>\n",
       "  </tbody>\n",
       "</table>\n",
       "<p>5 rows × 22 columns</p>\n",
       "</div>"
      ],
      "text/plain": [
       "    number  fips        date  PRECTOT      PS  QV2M    T2M  T2MDEW  T2MWET  \\\n",
       "0        0  1001  2000-01-01     0.22  100.51  9.65  14.74   13.51   13.51   \n",
       "10      10  1001  2000-01-11     1.33  100.40  6.63  11.48    7.84    7.84   \n",
       "20      20  1001  2000-01-21     0.00  100.81  2.10  -0.32   -7.69   -7.44   \n",
       "30      30  1001  2000-01-31     0.00  100.94  2.81  -0.27   -3.93   -3.88   \n",
       "40      40  1001  2000-02-10     0.00  100.11  6.22  10.41    6.63    6.64   \n",
       "\n",
       "    T2M_MAX  ...     TS  WS10M  WS10M_MAX  WS10M_MIN  WS10M_RANGE  WS50M  \\\n",
       "0     20.96  ...  14.65   2.20       2.94       1.49         1.46   4.85   \n",
       "10    18.88  ...  10.43   1.76       2.48       1.05         1.43   3.55   \n",
       "20     6.78  ...  -0.21   2.20       3.09       1.56         1.53   4.22   \n",
       "30     7.06  ...  -0.27   2.09       2.77       1.39         1.37   3.87   \n",
       "40    18.85  ...  10.27   2.58       3.82       1.62         2.20   5.35   \n",
       "\n",
       "    WS50M_MAX  WS50M_MIN  WS50M_RANGE  score  \n",
       "0        6.04       3.23         2.81    NaN  \n",
       "10       6.38       1.71         4.67    2.0  \n",
       "20       5.00       3.18         1.81    NaN  \n",
       "30       5.04       2.90         2.14    NaN  \n",
       "40       7.41       2.08         5.33    NaN  \n",
       "\n",
       "[5 rows x 22 columns]"
      ]
     },
     "execution_count": 10,
     "metadata": {},
     "output_type": "execute_result"
    }
   ],
   "source": [
    "sampled_train_data.head()"
   ]
  },
  {
   "cell_type": "code",
   "execution_count": 5,
   "metadata": {},
   "outputs": [],
   "source": [
    "del sampled_train_data['date']"
   ]
  },
  {
   "cell_type": "code",
   "execution_count": 6,
   "metadata": {},
   "outputs": [],
   "source": [
    "del sampled_train_data['number']"
   ]
  },
  {
   "cell_type": "code",
   "execution_count": 7,
   "metadata": {},
   "outputs": [],
   "source": [
    "sampled_train_data=sampled_train_data[sampled_train_data.PRECTOT !=0]"
   ]
  },
  {
   "cell_type": "code",
   "execution_count": 8,
   "metadata": {},
   "outputs": [],
   "source": [
    "sampled_train_data['score']=sampled_train_data['score'].fillna(0)"
   ]
  },
  {
   "cell_type": "code",
   "execution_count": 15,
   "metadata": {
    "scrolled": true
   },
   "outputs": [
    {
     "data": {
      "text/html": [
       "<div>\n",
       "<style scoped>\n",
       "    .dataframe tbody tr th:only-of-type {\n",
       "        vertical-align: middle;\n",
       "    }\n",
       "\n",
       "    .dataframe tbody tr th {\n",
       "        vertical-align: top;\n",
       "    }\n",
       "\n",
       "    .dataframe thead th {\n",
       "        text-align: right;\n",
       "    }\n",
       "</style>\n",
       "<table border=\"1\" class=\"dataframe\">\n",
       "  <thead>\n",
       "    <tr style=\"text-align: right;\">\n",
       "      <th></th>\n",
       "      <th>fips</th>\n",
       "      <th>PRECTOT</th>\n",
       "      <th>PS</th>\n",
       "      <th>QV2M</th>\n",
       "      <th>T2M</th>\n",
       "      <th>T2MDEW</th>\n",
       "      <th>T2MWET</th>\n",
       "      <th>T2M_MAX</th>\n",
       "      <th>T2M_MIN</th>\n",
       "      <th>T2M_RANGE</th>\n",
       "      <th>TS</th>\n",
       "      <th>WS10M</th>\n",
       "      <th>WS10M_MAX</th>\n",
       "      <th>WS10M_MIN</th>\n",
       "      <th>WS10M_RANGE</th>\n",
       "      <th>WS50M</th>\n",
       "      <th>WS50M_MAX</th>\n",
       "      <th>WS50M_MIN</th>\n",
       "      <th>WS50M_RANGE</th>\n",
       "      <th>score</th>\n",
       "    </tr>\n",
       "  </thead>\n",
       "  <tbody>\n",
       "    <tr>\n",
       "      <th>0</th>\n",
       "      <td>1001</td>\n",
       "      <td>0.22</td>\n",
       "      <td>100.51</td>\n",
       "      <td>9.65</td>\n",
       "      <td>14.74</td>\n",
       "      <td>13.51</td>\n",
       "      <td>13.51</td>\n",
       "      <td>20.96</td>\n",
       "      <td>11.46</td>\n",
       "      <td>9.50</td>\n",
       "      <td>14.65</td>\n",
       "      <td>2.20</td>\n",
       "      <td>2.94</td>\n",
       "      <td>1.49</td>\n",
       "      <td>1.46</td>\n",
       "      <td>4.85</td>\n",
       "      <td>6.04</td>\n",
       "      <td>3.23</td>\n",
       "      <td>2.81</td>\n",
       "      <td>0.0000</td>\n",
       "    </tr>\n",
       "    <tr>\n",
       "      <th>10</th>\n",
       "      <td>1001</td>\n",
       "      <td>1.33</td>\n",
       "      <td>100.40</td>\n",
       "      <td>6.63</td>\n",
       "      <td>11.48</td>\n",
       "      <td>7.84</td>\n",
       "      <td>7.84</td>\n",
       "      <td>18.88</td>\n",
       "      <td>5.72</td>\n",
       "      <td>13.16</td>\n",
       "      <td>10.43</td>\n",
       "      <td>1.76</td>\n",
       "      <td>2.48</td>\n",
       "      <td>1.05</td>\n",
       "      <td>1.43</td>\n",
       "      <td>3.55</td>\n",
       "      <td>6.38</td>\n",
       "      <td>1.71</td>\n",
       "      <td>4.67</td>\n",
       "      <td>2.0000</td>\n",
       "    </tr>\n",
       "    <tr>\n",
       "      <th>70</th>\n",
       "      <td>1001</td>\n",
       "      <td>6.02</td>\n",
       "      <td>100.00</td>\n",
       "      <td>9.07</td>\n",
       "      <td>14.82</td>\n",
       "      <td>11.35</td>\n",
       "      <td>11.35</td>\n",
       "      <td>21.19</td>\n",
       "      <td>3.96</td>\n",
       "      <td>17.22</td>\n",
       "      <td>14.75</td>\n",
       "      <td>3.98</td>\n",
       "      <td>5.57</td>\n",
       "      <td>2.39</td>\n",
       "      <td>3.18</td>\n",
       "      <td>7.08</td>\n",
       "      <td>9.04</td>\n",
       "      <td>5.44</td>\n",
       "      <td>3.60</td>\n",
       "      <td>0.0000</td>\n",
       "    </tr>\n",
       "    <tr>\n",
       "      <th>80</th>\n",
       "      <td>1001</td>\n",
       "      <td>0.17</td>\n",
       "      <td>100.66</td>\n",
       "      <td>6.89</td>\n",
       "      <td>12.81</td>\n",
       "      <td>8.32</td>\n",
       "      <td>8.32</td>\n",
       "      <td>21.18</td>\n",
       "      <td>3.91</td>\n",
       "      <td>17.28</td>\n",
       "      <td>12.87</td>\n",
       "      <td>1.81</td>\n",
       "      <td>2.03</td>\n",
       "      <td>1.14</td>\n",
       "      <td>0.88</td>\n",
       "      <td>3.90</td>\n",
       "      <td>5.55</td>\n",
       "      <td>1.55</td>\n",
       "      <td>4.00</td>\n",
       "      <td>1.5019</td>\n",
       "    </tr>\n",
       "    <tr>\n",
       "      <th>90</th>\n",
       "      <td>1001</td>\n",
       "      <td>0.14</td>\n",
       "      <td>100.14</td>\n",
       "      <td>8.85</td>\n",
       "      <td>17.07</td>\n",
       "      <td>12.09</td>\n",
       "      <td>12.09</td>\n",
       "      <td>25.05</td>\n",
       "      <td>9.47</td>\n",
       "      <td>15.58</td>\n",
       "      <td>17.03</td>\n",
       "      <td>1.70</td>\n",
       "      <td>2.10</td>\n",
       "      <td>1.15</td>\n",
       "      <td>0.96</td>\n",
       "      <td>3.40</td>\n",
       "      <td>4.96</td>\n",
       "      <td>2.05</td>\n",
       "      <td>2.90</td>\n",
       "      <td>0.0000</td>\n",
       "    </tr>\n",
       "  </tbody>\n",
       "</table>\n",
       "</div>"
      ],
      "text/plain": [
       "    fips  PRECTOT      PS  QV2M    T2M  T2MDEW  T2MWET  T2M_MAX  T2M_MIN  \\\n",
       "0   1001     0.22  100.51  9.65  14.74   13.51   13.51    20.96    11.46   \n",
       "10  1001     1.33  100.40  6.63  11.48    7.84    7.84    18.88     5.72   \n",
       "70  1001     6.02  100.00  9.07  14.82   11.35   11.35    21.19     3.96   \n",
       "80  1001     0.17  100.66  6.89  12.81    8.32    8.32    21.18     3.91   \n",
       "90  1001     0.14  100.14  8.85  17.07   12.09   12.09    25.05     9.47   \n",
       "\n",
       "    T2M_RANGE     TS  WS10M  WS10M_MAX  WS10M_MIN  WS10M_RANGE  WS50M  \\\n",
       "0        9.50  14.65   2.20       2.94       1.49         1.46   4.85   \n",
       "10      13.16  10.43   1.76       2.48       1.05         1.43   3.55   \n",
       "70      17.22  14.75   3.98       5.57       2.39         3.18   7.08   \n",
       "80      17.28  12.87   1.81       2.03       1.14         0.88   3.90   \n",
       "90      15.58  17.03   1.70       2.10       1.15         0.96   3.40   \n",
       "\n",
       "    WS50M_MAX  WS50M_MIN  WS50M_RANGE   score  \n",
       "0        6.04       3.23         2.81  0.0000  \n",
       "10       6.38       1.71         4.67  2.0000  \n",
       "70       9.04       5.44         3.60  0.0000  \n",
       "80       5.55       1.55         4.00  1.5019  \n",
       "90       4.96       2.05         2.90  0.0000  "
      ]
     },
     "execution_count": 15,
     "metadata": {},
     "output_type": "execute_result"
    }
   ],
   "source": [
    "sampled_train_data.head()"
   ]
  },
  {
   "cell_type": "code",
   "execution_count": 9,
   "metadata": {},
   "outputs": [
    {
     "data": {
      "text/plain": [
       "(1412631, 20)"
      ]
     },
     "execution_count": 9,
     "metadata": {},
     "output_type": "execute_result"
    }
   ],
   "source": [
    "sampled_train_data.shape"
   ]
  },
  {
   "cell_type": "code",
   "execution_count": 17,
   "metadata": {},
   "outputs": [
    {
     "data": {
      "text/plain": [
       "fips           0.0\n",
       "PRECTOT        0.0\n",
       "PS             0.0\n",
       "QV2M           0.0\n",
       "T2M            0.0\n",
       "T2MDEW         0.0\n",
       "T2MWET         0.0\n",
       "T2M_MAX        0.0\n",
       "T2M_MIN        0.0\n",
       "T2M_RANGE      0.0\n",
       "TS             0.0\n",
       "WS10M          0.0\n",
       "WS10M_MAX      0.0\n",
       "WS10M_MIN      0.0\n",
       "WS10M_RANGE    0.0\n",
       "WS50M          0.0\n",
       "WS50M_MAX      0.0\n",
       "WS50M_MIN      0.0\n",
       "WS50M_RANGE    0.0\n",
       "score          0.0\n",
       "dtype: float64"
      ]
     },
     "execution_count": 17,
     "metadata": {},
     "output_type": "execute_result"
    }
   ],
   "source": [
    "sampled_train_data.isnull().mean()"
   ]
  },
  {
   "cell_type": "markdown",
   "metadata": {},
   "source": [
    "## What data means "
   ]
  },
  {
   "cell_type": "code",
   "execution_count": 11,
   "metadata": {},
   "outputs": [
    {
     "data": {
      "text/html": [
       "<div>\n",
       "<style scoped>\n",
       "    .dataframe tbody tr th:only-of-type {\n",
       "        vertical-align: middle;\n",
       "    }\n",
       "\n",
       "    .dataframe tbody tr th {\n",
       "        vertical-align: top;\n",
       "    }\n",
       "\n",
       "    .dataframe thead th {\n",
       "        text-align: right;\n",
       "    }\n",
       "</style>\n",
       "<table border=\"1\" class=\"dataframe\">\n",
       "  <thead>\n",
       "    <tr style=\"text-align: right;\">\n",
       "      <th></th>\n",
       "      <th>fips</th>\n",
       "      <th>PRECTOT</th>\n",
       "      <th>PS</th>\n",
       "      <th>QV2M</th>\n",
       "      <th>T2M</th>\n",
       "      <th>T2MDEW</th>\n",
       "      <th>T2MWET</th>\n",
       "      <th>T2M_MAX</th>\n",
       "      <th>T2M_MIN</th>\n",
       "      <th>T2M_RANGE</th>\n",
       "      <th>TS</th>\n",
       "      <th>WS10M</th>\n",
       "      <th>WS10M_MAX</th>\n",
       "      <th>WS10M_MIN</th>\n",
       "      <th>WS10M_RANGE</th>\n",
       "      <th>WS50M</th>\n",
       "      <th>WS50M_MAX</th>\n",
       "      <th>WS50M_MIN</th>\n",
       "      <th>WS50M_RANGE</th>\n",
       "      <th>score</th>\n",
       "    </tr>\n",
       "  </thead>\n",
       "  <tbody>\n",
       "    <tr>\n",
       "      <th>count</th>\n",
       "      <td>1.412631e+06</td>\n",
       "      <td>1.412631e+06</td>\n",
       "      <td>1.412631e+06</td>\n",
       "      <td>1.412631e+06</td>\n",
       "      <td>1.412631e+06</td>\n",
       "      <td>1.412631e+06</td>\n",
       "      <td>1.412631e+06</td>\n",
       "      <td>1.412631e+06</td>\n",
       "      <td>1.412631e+06</td>\n",
       "      <td>1.412631e+06</td>\n",
       "      <td>1.412631e+06</td>\n",
       "      <td>1.412631e+06</td>\n",
       "      <td>1.412631e+06</td>\n",
       "      <td>1.412631e+06</td>\n",
       "      <td>1.412631e+06</td>\n",
       "      <td>1.412631e+06</td>\n",
       "      <td>1.412631e+06</td>\n",
       "      <td>1.412631e+06</td>\n",
       "      <td>1.412631e+06</td>\n",
       "      <td>205064.000000</td>\n",
       "    </tr>\n",
       "    <tr>\n",
       "      <th>mean</th>\n",
       "      <td>3.084691e+04</td>\n",
       "      <td>3.552478e+00</td>\n",
       "      <td>9.657276e+01</td>\n",
       "      <td>8.390447e+00</td>\n",
       "      <td>1.303752e+01</td>\n",
       "      <td>7.989186e+00</td>\n",
       "      <td>8.017545e+00</td>\n",
       "      <td>1.843221e+01</td>\n",
       "      <td>7.994294e+00</td>\n",
       "      <td>1.043792e+01</td>\n",
       "      <td>1.315023e+01</td>\n",
       "      <td>3.633389e+00</td>\n",
       "      <td>5.283241e+00</td>\n",
       "      <td>1.969890e+00</td>\n",
       "      <td>3.313362e+00</td>\n",
       "      <td>5.596347e+00</td>\n",
       "      <td>7.856389e+00</td>\n",
       "      <td>3.226625e+00</td>\n",
       "      <td>4.629766e+00</td>\n",
       "      <td>0.758370</td>\n",
       "    </tr>\n",
       "    <tr>\n",
       "      <th>std</th>\n",
       "      <td>1.487625e+04</td>\n",
       "      <td>7.020841e+00</td>\n",
       "      <td>5.533887e+00</td>\n",
       "      <td>4.878120e+00</td>\n",
       "      <td>1.120311e+01</td>\n",
       "      <td>1.033786e+01</td>\n",
       "      <td>1.029013e+01</td>\n",
       "      <td>1.182159e+01</td>\n",
       "      <td>1.091936e+01</td>\n",
       "      <td>3.807922e+00</td>\n",
       "      <td>1.139505e+01</td>\n",
       "      <td>1.959304e+00</td>\n",
       "      <td>2.729310e+00</td>\n",
       "      <td>1.404834e+00</td>\n",
       "      <td>2.002203e+00</td>\n",
       "      <td>2.418819e+00</td>\n",
       "      <td>3.005029e+00</td>\n",
       "      <td>2.168801e+00</td>\n",
       "      <td>2.216594e+00</td>\n",
       "      <td>1.166844</td>\n",
       "    </tr>\n",
       "    <tr>\n",
       "      <th>min</th>\n",
       "      <td>1.001000e+03</td>\n",
       "      <td>1.000000e-02</td>\n",
       "      <td>6.669000e+01</td>\n",
       "      <td>1.500000e-01</td>\n",
       "      <td>-3.569000e+01</td>\n",
       "      <td>-3.573000e+01</td>\n",
       "      <td>-3.573000e+01</td>\n",
       "      <td>-2.836000e+01</td>\n",
       "      <td>-4.264000e+01</td>\n",
       "      <td>1.300000e-01</td>\n",
       "      <td>-3.823000e+01</td>\n",
       "      <td>2.900000e-01</td>\n",
       "      <td>5.500000e-01</td>\n",
       "      <td>0.000000e+00</td>\n",
       "      <td>2.000000e-01</td>\n",
       "      <td>4.000000e-01</td>\n",
       "      <td>7.000000e-01</td>\n",
       "      <td>0.000000e+00</td>\n",
       "      <td>3.600000e-01</td>\n",
       "      <td>0.000000</td>\n",
       "    </tr>\n",
       "    <tr>\n",
       "      <th>25%</th>\n",
       "      <td>1.906500e+04</td>\n",
       "      <td>9.000000e-02</td>\n",
       "      <td>9.588000e+01</td>\n",
       "      <td>4.100000e+00</td>\n",
       "      <td>4.550000e+00</td>\n",
       "      <td>1.100000e-01</td>\n",
       "      <td>1.300000e-01</td>\n",
       "      <td>9.710000e+00</td>\n",
       "      <td>-2.000000e-01</td>\n",
       "      <td>7.730000e+00</td>\n",
       "      <td>4.500000e+00</td>\n",
       "      <td>2.140000e+00</td>\n",
       "      <td>3.140000e+00</td>\n",
       "      <td>9.800000e-01</td>\n",
       "      <td>1.810000e+00</td>\n",
       "      <td>3.790000e+00</td>\n",
       "      <td>5.600000e+00</td>\n",
       "      <td>1.530000e+00</td>\n",
       "      <td>3.040000e+00</td>\n",
       "      <td>0.000000</td>\n",
       "    </tr>\n",
       "    <tr>\n",
       "      <th>50%</th>\n",
       "      <td>2.921700e+04</td>\n",
       "      <td>6.900000e-01</td>\n",
       "      <td>9.823000e+01</td>\n",
       "      <td>7.600000e+00</td>\n",
       "      <td>1.452000e+01</td>\n",
       "      <td>9.090000e+00</td>\n",
       "      <td>9.090000e+00</td>\n",
       "      <td>2.029000e+01</td>\n",
       "      <td>8.960000e+00</td>\n",
       "      <td>1.033000e+01</td>\n",
       "      <td>1.458000e+01</td>\n",
       "      <td>3.180000e+00</td>\n",
       "      <td>4.730000e+00</td>\n",
       "      <td>1.670000e+00</td>\n",
       "      <td>2.830000e+00</td>\n",
       "      <td>5.160000e+00</td>\n",
       "      <td>7.300000e+00</td>\n",
       "      <td>2.860000e+00</td>\n",
       "      <td>4.170000e+00</td>\n",
       "      <td>0.000000</td>\n",
       "    </tr>\n",
       "    <tr>\n",
       "      <th>75%</th>\n",
       "      <td>4.507900e+04</td>\n",
       "      <td>3.740000e+00</td>\n",
       "      <td>9.985000e+01</td>\n",
       "      <td>1.234000e+01</td>\n",
       "      <td>2.250000e+01</td>\n",
       "      <td>1.685000e+01</td>\n",
       "      <td>1.685000e+01</td>\n",
       "      <td>2.803000e+01</td>\n",
       "      <td>1.716000e+01</td>\n",
       "      <td>1.303000e+01</td>\n",
       "      <td>2.269000e+01</td>\n",
       "      <td>4.690000e+00</td>\n",
       "      <td>6.850000e+00</td>\n",
       "      <td>2.610000e+00</td>\n",
       "      <td>4.310000e+00</td>\n",
       "      <td>6.980000e+00</td>\n",
       "      <td>9.540000e+00</td>\n",
       "      <td>4.520000e+00</td>\n",
       "      <td>5.730000e+00</td>\n",
       "      <td>1.000000</td>\n",
       "    </tr>\n",
       "    <tr>\n",
       "      <th>max</th>\n",
       "      <td>5.604300e+04</td>\n",
       "      <td>1.779300e+02</td>\n",
       "      <td>1.039900e+02</td>\n",
       "      <td>2.292000e+01</td>\n",
       "      <td>3.887000e+01</td>\n",
       "      <td>2.755000e+01</td>\n",
       "      <td>2.755000e+01</td>\n",
       "      <td>4.648000e+01</td>\n",
       "      <td>3.262000e+01</td>\n",
       "      <td>3.014000e+01</td>\n",
       "      <td>4.230000e+01</td>\n",
       "      <td>1.712000e+01</td>\n",
       "      <td>2.165000e+01</td>\n",
       "      <td>1.536000e+01</td>\n",
       "      <td>1.723000e+01</td>\n",
       "      <td>2.119000e+01</td>\n",
       "      <td>2.617000e+01</td>\n",
       "      <td>1.793000e+01</td>\n",
       "      <td>2.132000e+01</td>\n",
       "      <td>5.000000</td>\n",
       "    </tr>\n",
       "  </tbody>\n",
       "</table>\n",
       "</div>"
      ],
      "text/plain": [
       "               fips       PRECTOT            PS          QV2M           T2M  \\\n",
       "count  1.412631e+06  1.412631e+06  1.412631e+06  1.412631e+06  1.412631e+06   \n",
       "mean   3.084691e+04  3.552478e+00  9.657276e+01  8.390447e+00  1.303752e+01   \n",
       "std    1.487625e+04  7.020841e+00  5.533887e+00  4.878120e+00  1.120311e+01   \n",
       "min    1.001000e+03  1.000000e-02  6.669000e+01  1.500000e-01 -3.569000e+01   \n",
       "25%    1.906500e+04  9.000000e-02  9.588000e+01  4.100000e+00  4.550000e+00   \n",
       "50%    2.921700e+04  6.900000e-01  9.823000e+01  7.600000e+00  1.452000e+01   \n",
       "75%    4.507900e+04  3.740000e+00  9.985000e+01  1.234000e+01  2.250000e+01   \n",
       "max    5.604300e+04  1.779300e+02  1.039900e+02  2.292000e+01  3.887000e+01   \n",
       "\n",
       "             T2MDEW        T2MWET       T2M_MAX       T2M_MIN     T2M_RANGE  \\\n",
       "count  1.412631e+06  1.412631e+06  1.412631e+06  1.412631e+06  1.412631e+06   \n",
       "mean   7.989186e+00  8.017545e+00  1.843221e+01  7.994294e+00  1.043792e+01   \n",
       "std    1.033786e+01  1.029013e+01  1.182159e+01  1.091936e+01  3.807922e+00   \n",
       "min   -3.573000e+01 -3.573000e+01 -2.836000e+01 -4.264000e+01  1.300000e-01   \n",
       "25%    1.100000e-01  1.300000e-01  9.710000e+00 -2.000000e-01  7.730000e+00   \n",
       "50%    9.090000e+00  9.090000e+00  2.029000e+01  8.960000e+00  1.033000e+01   \n",
       "75%    1.685000e+01  1.685000e+01  2.803000e+01  1.716000e+01  1.303000e+01   \n",
       "max    2.755000e+01  2.755000e+01  4.648000e+01  3.262000e+01  3.014000e+01   \n",
       "\n",
       "                 TS         WS10M     WS10M_MAX     WS10M_MIN   WS10M_RANGE  \\\n",
       "count  1.412631e+06  1.412631e+06  1.412631e+06  1.412631e+06  1.412631e+06   \n",
       "mean   1.315023e+01  3.633389e+00  5.283241e+00  1.969890e+00  3.313362e+00   \n",
       "std    1.139505e+01  1.959304e+00  2.729310e+00  1.404834e+00  2.002203e+00   \n",
       "min   -3.823000e+01  2.900000e-01  5.500000e-01  0.000000e+00  2.000000e-01   \n",
       "25%    4.500000e+00  2.140000e+00  3.140000e+00  9.800000e-01  1.810000e+00   \n",
       "50%    1.458000e+01  3.180000e+00  4.730000e+00  1.670000e+00  2.830000e+00   \n",
       "75%    2.269000e+01  4.690000e+00  6.850000e+00  2.610000e+00  4.310000e+00   \n",
       "max    4.230000e+01  1.712000e+01  2.165000e+01  1.536000e+01  1.723000e+01   \n",
       "\n",
       "              WS50M     WS50M_MAX     WS50M_MIN   WS50M_RANGE          score  \n",
       "count  1.412631e+06  1.412631e+06  1.412631e+06  1.412631e+06  205064.000000  \n",
       "mean   5.596347e+00  7.856389e+00  3.226625e+00  4.629766e+00       0.758370  \n",
       "std    2.418819e+00  3.005029e+00  2.168801e+00  2.216594e+00       1.166844  \n",
       "min    4.000000e-01  7.000000e-01  0.000000e+00  3.600000e-01       0.000000  \n",
       "25%    3.790000e+00  5.600000e+00  1.530000e+00  3.040000e+00       0.000000  \n",
       "50%    5.160000e+00  7.300000e+00  2.860000e+00  4.170000e+00       0.000000  \n",
       "75%    6.980000e+00  9.540000e+00  4.520000e+00  5.730000e+00       1.000000  \n",
       "max    2.119000e+01  2.617000e+01  1.793000e+01  2.132000e+01       5.000000  "
      ]
     },
     "execution_count": 11,
     "metadata": {},
     "output_type": "execute_result"
    }
   ],
   "source": [
    "sampled_train_data.describe()"
   ]
  },
  {
   "cell_type": "markdown",
   "metadata": {},
   "source": [
    "## Select Feature divide them into train and test set and target feature"
   ]
  },
  {
   "cell_type": "code",
   "execution_count": 10,
   "metadata": {},
   "outputs": [
    {
     "data": {
      "text/plain": [
       "array([0.    , 1.    , 2.    , ..., 2.8057, 0.7399, 0.0886])"
      ]
     },
     "execution_count": 10,
     "metadata": {},
     "output_type": "execute_result"
    }
   ],
   "source": [
    "sampled_train_data.score.unique()"
   ]
  },
  {
   "cell_type": "code",
   "execution_count": 18,
   "metadata": {
    "scrolled": true
   },
   "outputs": [
    {
     "data": {
      "text/plain": [
       "0.0000    1320943\n",
       "1.0000      17359\n",
       "2.0000       8630\n",
       "3.0000       5504\n",
       "4.0000       3115\n",
       "           ...   \n",
       "2.7075          1\n",
       "4.6865          1\n",
       "2.6393          1\n",
       "2.7352          1\n",
       "3.1665          1\n",
       "Name: score, Length: 28439, dtype: int64"
      ]
     },
     "execution_count": 18,
     "metadata": {},
     "output_type": "execute_result"
    }
   ],
   "source": [
    "pd.value_counts(sampled_train_data.score)"
   ]
  },
  {
   "cell_type": "markdown",
   "metadata": {},
   "source": [
    "## Convert into classification task"
   ]
  },
  {
   "cell_type": "code",
   "execution_count": 10,
   "metadata": {},
   "outputs": [
    {
     "name": "stdout",
     "output_type": "stream",
     "text": [
      "0           0\n",
      "10          1\n",
      "70          0\n",
      "80          1\n",
      "90          0\n",
      "           ..\n",
      "19300590    0\n",
      "19300640    0\n",
      "19300650    0\n",
      "19300660    0\n",
      "19300670    0\n",
      "Name: drought, Length: 1412631, dtype: int32\n"
     ]
    }
   ],
   "source": [
    "clean_data=sampled_train_data.copy()\n",
    "clean_data['drought']=(clean_data['score']>0)*1\n",
    "print(clean_data['drought'])"
   ]
  },
  {
   "cell_type": "code",
   "execution_count": 50,
   "metadata": {},
   "outputs": [
    {
     "data": {
      "text/html": [
       "<div>\n",
       "<style scoped>\n",
       "    .dataframe tbody tr th:only-of-type {\n",
       "        vertical-align: middle;\n",
       "    }\n",
       "\n",
       "    .dataframe tbody tr th {\n",
       "        vertical-align: top;\n",
       "    }\n",
       "\n",
       "    .dataframe thead th {\n",
       "        text-align: right;\n",
       "    }\n",
       "</style>\n",
       "<table border=\"1\" class=\"dataframe\">\n",
       "  <thead>\n",
       "    <tr style=\"text-align: right;\">\n",
       "      <th></th>\n",
       "      <th>fips</th>\n",
       "      <th>PRECTOT</th>\n",
       "      <th>PS</th>\n",
       "      <th>QV2M</th>\n",
       "      <th>T2M</th>\n",
       "      <th>T2MDEW</th>\n",
       "      <th>T2MWET</th>\n",
       "      <th>T2M_MAX</th>\n",
       "      <th>T2M_MIN</th>\n",
       "      <th>T2M_RANGE</th>\n",
       "      <th>...</th>\n",
       "      <th>WS10M</th>\n",
       "      <th>WS10M_MAX</th>\n",
       "      <th>WS10M_MIN</th>\n",
       "      <th>WS10M_RANGE</th>\n",
       "      <th>WS50M</th>\n",
       "      <th>WS50M_MAX</th>\n",
       "      <th>WS50M_MIN</th>\n",
       "      <th>WS50M_RANGE</th>\n",
       "      <th>score</th>\n",
       "      <th>drought</th>\n",
       "    </tr>\n",
       "  </thead>\n",
       "  <tbody>\n",
       "    <tr>\n",
       "      <th>0</th>\n",
       "      <td>1001</td>\n",
       "      <td>0.22</td>\n",
       "      <td>100.51</td>\n",
       "      <td>9.65</td>\n",
       "      <td>14.74</td>\n",
       "      <td>13.51</td>\n",
       "      <td>13.51</td>\n",
       "      <td>20.96</td>\n",
       "      <td>11.46</td>\n",
       "      <td>9.50</td>\n",
       "      <td>...</td>\n",
       "      <td>2.20</td>\n",
       "      <td>2.94</td>\n",
       "      <td>1.49</td>\n",
       "      <td>1.46</td>\n",
       "      <td>4.85</td>\n",
       "      <td>6.04</td>\n",
       "      <td>3.23</td>\n",
       "      <td>2.81</td>\n",
       "      <td>0.0000</td>\n",
       "      <td>0</td>\n",
       "    </tr>\n",
       "    <tr>\n",
       "      <th>10</th>\n",
       "      <td>1001</td>\n",
       "      <td>1.33</td>\n",
       "      <td>100.40</td>\n",
       "      <td>6.63</td>\n",
       "      <td>11.48</td>\n",
       "      <td>7.84</td>\n",
       "      <td>7.84</td>\n",
       "      <td>18.88</td>\n",
       "      <td>5.72</td>\n",
       "      <td>13.16</td>\n",
       "      <td>...</td>\n",
       "      <td>1.76</td>\n",
       "      <td>2.48</td>\n",
       "      <td>1.05</td>\n",
       "      <td>1.43</td>\n",
       "      <td>3.55</td>\n",
       "      <td>6.38</td>\n",
       "      <td>1.71</td>\n",
       "      <td>4.67</td>\n",
       "      <td>2.0000</td>\n",
       "      <td>1</td>\n",
       "    </tr>\n",
       "    <tr>\n",
       "      <th>70</th>\n",
       "      <td>1001</td>\n",
       "      <td>6.02</td>\n",
       "      <td>100.00</td>\n",
       "      <td>9.07</td>\n",
       "      <td>14.82</td>\n",
       "      <td>11.35</td>\n",
       "      <td>11.35</td>\n",
       "      <td>21.19</td>\n",
       "      <td>3.96</td>\n",
       "      <td>17.22</td>\n",
       "      <td>...</td>\n",
       "      <td>3.98</td>\n",
       "      <td>5.57</td>\n",
       "      <td>2.39</td>\n",
       "      <td>3.18</td>\n",
       "      <td>7.08</td>\n",
       "      <td>9.04</td>\n",
       "      <td>5.44</td>\n",
       "      <td>3.60</td>\n",
       "      <td>0.0000</td>\n",
       "      <td>0</td>\n",
       "    </tr>\n",
       "    <tr>\n",
       "      <th>80</th>\n",
       "      <td>1001</td>\n",
       "      <td>0.17</td>\n",
       "      <td>100.66</td>\n",
       "      <td>6.89</td>\n",
       "      <td>12.81</td>\n",
       "      <td>8.32</td>\n",
       "      <td>8.32</td>\n",
       "      <td>21.18</td>\n",
       "      <td>3.91</td>\n",
       "      <td>17.28</td>\n",
       "      <td>...</td>\n",
       "      <td>1.81</td>\n",
       "      <td>2.03</td>\n",
       "      <td>1.14</td>\n",
       "      <td>0.88</td>\n",
       "      <td>3.90</td>\n",
       "      <td>5.55</td>\n",
       "      <td>1.55</td>\n",
       "      <td>4.00</td>\n",
       "      <td>1.5019</td>\n",
       "      <td>1</td>\n",
       "    </tr>\n",
       "    <tr>\n",
       "      <th>90</th>\n",
       "      <td>1001</td>\n",
       "      <td>0.14</td>\n",
       "      <td>100.14</td>\n",
       "      <td>8.85</td>\n",
       "      <td>17.07</td>\n",
       "      <td>12.09</td>\n",
       "      <td>12.09</td>\n",
       "      <td>25.05</td>\n",
       "      <td>9.47</td>\n",
       "      <td>15.58</td>\n",
       "      <td>...</td>\n",
       "      <td>1.70</td>\n",
       "      <td>2.10</td>\n",
       "      <td>1.15</td>\n",
       "      <td>0.96</td>\n",
       "      <td>3.40</td>\n",
       "      <td>4.96</td>\n",
       "      <td>2.05</td>\n",
       "      <td>2.90</td>\n",
       "      <td>0.0000</td>\n",
       "      <td>0</td>\n",
       "    </tr>\n",
       "  </tbody>\n",
       "</table>\n",
       "<p>5 rows × 21 columns</p>\n",
       "</div>"
      ],
      "text/plain": [
       "    fips  PRECTOT      PS  QV2M    T2M  T2MDEW  T2MWET  T2M_MAX  T2M_MIN  \\\n",
       "0   1001     0.22  100.51  9.65  14.74   13.51   13.51    20.96    11.46   \n",
       "10  1001     1.33  100.40  6.63  11.48    7.84    7.84    18.88     5.72   \n",
       "70  1001     6.02  100.00  9.07  14.82   11.35   11.35    21.19     3.96   \n",
       "80  1001     0.17  100.66  6.89  12.81    8.32    8.32    21.18     3.91   \n",
       "90  1001     0.14  100.14  8.85  17.07   12.09   12.09    25.05     9.47   \n",
       "\n",
       "    T2M_RANGE  ...  WS10M  WS10M_MAX  WS10M_MIN  WS10M_RANGE  WS50M  \\\n",
       "0        9.50  ...   2.20       2.94       1.49         1.46   4.85   \n",
       "10      13.16  ...   1.76       2.48       1.05         1.43   3.55   \n",
       "70      17.22  ...   3.98       5.57       2.39         3.18   7.08   \n",
       "80      17.28  ...   1.81       2.03       1.14         0.88   3.90   \n",
       "90      15.58  ...   1.70       2.10       1.15         0.96   3.40   \n",
       "\n",
       "    WS50M_MAX  WS50M_MIN  WS50M_RANGE   score  drought  \n",
       "0        6.04       3.23         2.81  0.0000        0  \n",
       "10       6.38       1.71         4.67  2.0000        1  \n",
       "70       9.04       5.44         3.60  0.0000        0  \n",
       "80       5.55       1.55         4.00  1.5019        1  \n",
       "90       4.96       2.05         2.90  0.0000        0  \n",
       "\n",
       "[5 rows x 21 columns]"
      ]
     },
     "execution_count": 50,
     "metadata": {},
     "output_type": "execute_result"
    }
   ],
   "source": [
    "clean_data.head()"
   ]
  },
  {
   "cell_type": "markdown",
   "metadata": {},
   "source": [
    "## Classification target stored in y"
   ]
  },
  {
   "cell_type": "code",
   "execution_count": 11,
   "metadata": {},
   "outputs": [],
   "source": [
    "y=clean_data[['drought']].copy()"
   ]
  },
  {
   "cell_type": "code",
   "execution_count": 12,
   "metadata": {},
   "outputs": [
    {
     "data": {
      "text/plain": [
       "0     0.0000\n",
       "10    2.0000\n",
       "70    0.0000\n",
       "80    1.5019\n",
       "90    0.0000\n",
       "Name: score, dtype: float64"
      ]
     },
     "execution_count": 12,
     "metadata": {},
     "output_type": "execute_result"
    }
   ],
   "source": [
    "clean_data['score'].head()"
   ]
  },
  {
   "cell_type": "code",
   "execution_count": 13,
   "metadata": {},
   "outputs": [
    {
     "data": {
      "text/plain": [
       "fips             int64\n",
       "PRECTOT        float64\n",
       "PS             float64\n",
       "QV2M           float64\n",
       "T2M            float64\n",
       "T2MDEW         float64\n",
       "T2MWET         float64\n",
       "T2M_MAX        float64\n",
       "T2M_MIN        float64\n",
       "T2M_RANGE      float64\n",
       "TS             float64\n",
       "WS10M          float64\n",
       "WS10M_MAX      float64\n",
       "WS10M_MIN      float64\n",
       "WS10M_RANGE    float64\n",
       "WS50M          float64\n",
       "WS50M_MAX      float64\n",
       "WS50M_MIN      float64\n",
       "WS50M_RANGE    float64\n",
       "score          float64\n",
       "drought          int32\n",
       "dtype: object"
      ]
     },
     "execution_count": 13,
     "metadata": {},
     "output_type": "execute_result"
    }
   ],
   "source": [
    "clean_data.dtypes"
   ]
  },
  {
   "cell_type": "code",
   "execution_count": 23,
   "metadata": {},
   "outputs": [
    {
     "data": {
      "text/html": [
       "<div>\n",
       "<style scoped>\n",
       "    .dataframe tbody tr th:only-of-type {\n",
       "        vertical-align: middle;\n",
       "    }\n",
       "\n",
       "    .dataframe tbody tr th {\n",
       "        vertical-align: top;\n",
       "    }\n",
       "\n",
       "    .dataframe thead th {\n",
       "        text-align: right;\n",
       "    }\n",
       "</style>\n",
       "<table border=\"1\" class=\"dataframe\">\n",
       "  <thead>\n",
       "    <tr style=\"text-align: right;\">\n",
       "      <th></th>\n",
       "      <th>drought</th>\n",
       "    </tr>\n",
       "  </thead>\n",
       "  <tbody>\n",
       "    <tr>\n",
       "      <th>0</th>\n",
       "      <td>0</td>\n",
       "    </tr>\n",
       "    <tr>\n",
       "      <th>10</th>\n",
       "      <td>1</td>\n",
       "    </tr>\n",
       "    <tr>\n",
       "      <th>70</th>\n",
       "      <td>0</td>\n",
       "    </tr>\n",
       "    <tr>\n",
       "      <th>80</th>\n",
       "      <td>1</td>\n",
       "    </tr>\n",
       "    <tr>\n",
       "      <th>90</th>\n",
       "      <td>0</td>\n",
       "    </tr>\n",
       "  </tbody>\n",
       "</table>\n",
       "</div>"
      ],
      "text/plain": [
       "    drought\n",
       "0         0\n",
       "10        1\n",
       "70        0\n",
       "80        1\n",
       "90        0"
      ]
     },
     "execution_count": 23,
     "metadata": {},
     "output_type": "execute_result"
    }
   ],
   "source": [
    "y.head()"
   ]
  },
  {
   "cell_type": "code",
   "execution_count": 14,
   "metadata": {},
   "outputs": [],
   "source": [
    "feature_selection=['fips','PRECTOT', 'PS', 'QV2M', 'T2M', 'T2MDEW', 'T2MWET',\n",
    "       'T2M_MAX', 'T2M_MIN', 'T2M_RANGE', 'TS', 'WS10M', 'WS10M_MAX',\n",
    "       'WS10M_MIN', 'WS10M_RANGE', 'WS50M', 'WS50M_MAX', 'WS50M_MIN',\n",
    "       'WS50M_RANGE']"
   ]
  },
  {
   "cell_type": "code",
   "execution_count": 15,
   "metadata": {},
   "outputs": [],
   "source": [
    "X=clean_data[feature_selection].copy()"
   ]
  },
  {
   "cell_type": "code",
   "execution_count": 16,
   "metadata": {},
   "outputs": [
    {
     "data": {
      "text/plain": [
       "Index(['fips', 'PRECTOT', 'PS', 'QV2M', 'T2M', 'T2MDEW', 'T2MWET', 'T2M_MAX',\n",
       "       'T2M_MIN', 'T2M_RANGE', 'TS', 'WS10M', 'WS10M_MAX', 'WS10M_MIN',\n",
       "       'WS10M_RANGE', 'WS50M', 'WS50M_MAX', 'WS50M_MIN', 'WS50M_RANGE'],\n",
       "      dtype='object')"
      ]
     },
     "execution_count": 16,
     "metadata": {},
     "output_type": "execute_result"
    }
   ],
   "source": [
    "X.columns"
   ]
  },
  {
   "cell_type": "code",
   "execution_count": 17,
   "metadata": {},
   "outputs": [
    {
     "data": {
      "text/plain": [
       "Index(['drought'], dtype='object')"
      ]
     },
     "execution_count": 17,
     "metadata": {},
     "output_type": "execute_result"
    }
   ],
   "source": [
    "y.columns"
   ]
  },
  {
   "cell_type": "markdown",
   "metadata": {},
   "source": [
    "## Training and test split"
   ]
  },
  {
   "cell_type": "code",
   "execution_count": 18,
   "metadata": {},
   "outputs": [],
   "source": [
    "X_train, X_test, y_train, y_test = train_test_split(X, y, test_size=0.22, random_state=350)"
   ]
  },
  {
   "cell_type": "code",
   "execution_count": 19,
   "metadata": {},
   "outputs": [
    {
     "data": {
      "text/html": [
       "<div>\n",
       "<style scoped>\n",
       "    .dataframe tbody tr th:only-of-type {\n",
       "        vertical-align: middle;\n",
       "    }\n",
       "\n",
       "    .dataframe tbody tr th {\n",
       "        vertical-align: top;\n",
       "    }\n",
       "\n",
       "    .dataframe thead th {\n",
       "        text-align: right;\n",
       "    }\n",
       "</style>\n",
       "<table border=\"1\" class=\"dataframe\">\n",
       "  <thead>\n",
       "    <tr style=\"text-align: right;\">\n",
       "      <th></th>\n",
       "      <th>drought</th>\n",
       "    </tr>\n",
       "  </thead>\n",
       "  <tbody>\n",
       "    <tr>\n",
       "      <th>count</th>\n",
       "      <td>1.101852e+06</td>\n",
       "    </tr>\n",
       "    <tr>\n",
       "      <th>mean</th>\n",
       "      <td>6.507317e-02</td>\n",
       "    </tr>\n",
       "    <tr>\n",
       "      <th>std</th>\n",
       "      <td>2.466550e-01</td>\n",
       "    </tr>\n",
       "    <tr>\n",
       "      <th>min</th>\n",
       "      <td>0.000000e+00</td>\n",
       "    </tr>\n",
       "    <tr>\n",
       "      <th>25%</th>\n",
       "      <td>0.000000e+00</td>\n",
       "    </tr>\n",
       "    <tr>\n",
       "      <th>50%</th>\n",
       "      <td>0.000000e+00</td>\n",
       "    </tr>\n",
       "    <tr>\n",
       "      <th>75%</th>\n",
       "      <td>0.000000e+00</td>\n",
       "    </tr>\n",
       "    <tr>\n",
       "      <th>max</th>\n",
       "      <td>1.000000e+00</td>\n",
       "    </tr>\n",
       "  </tbody>\n",
       "</table>\n",
       "</div>"
      ],
      "text/plain": [
       "            drought\n",
       "count  1.101852e+06\n",
       "mean   6.507317e-02\n",
       "std    2.466550e-01\n",
       "min    0.000000e+00\n",
       "25%    0.000000e+00\n",
       "50%    0.000000e+00\n",
       "75%    0.000000e+00\n",
       "max    1.000000e+00"
      ]
     },
     "execution_count": 19,
     "metadata": {},
     "output_type": "execute_result"
    }
   ],
   "source": [
    "type(X_train)\n",
    "type(X_test)\n",
    "type(y_train)\n",
    "type(y_test)\n",
    "X_train.head()\n",
    "y_train.describe()"
   ]
  },
  {
   "cell_type": "code",
   "execution_count": 20,
   "metadata": {},
   "outputs": [],
   "source": [
    " from sklearn.metrics import precision_recall_fscore_support"
   ]
  },
  {
   "cell_type": "markdown",
   "metadata": {},
   "source": [
    "## Decesion tree classifier"
   ]
  },
  {
   "cell_type": "code",
   "execution_count": 21,
   "metadata": {},
   "outputs": [
    {
     "data": {
      "text/plain": [
       "DecisionTreeClassifier(max_leaf_nodes=30, random_state=0)"
      ]
     },
     "execution_count": 21,
     "metadata": {},
     "output_type": "execute_result"
    }
   ],
   "source": [
    "drought_classifier= DecisionTreeClassifier(max_leaf_nodes=30, random_state=0)\n",
    "drought_classifier.fit(X_train, y_train)"
   ]
  },
  {
   "cell_type": "code",
   "execution_count": 22,
   "metadata": {},
   "outputs": [
    {
     "data": {
      "text/plain": [
       "sklearn.tree._classes.DecisionTreeClassifier"
      ]
     },
     "execution_count": 22,
     "metadata": {},
     "output_type": "execute_result"
    }
   ],
   "source": [
    "type(drought_classifier)"
   ]
  },
  {
   "cell_type": "code",
   "execution_count": 23,
   "metadata": {},
   "outputs": [],
   "source": [
    "prediction=drought_classifier.predict(X_test)"
   ]
  },
  {
   "cell_type": "code",
   "execution_count": 24,
   "metadata": {},
   "outputs": [
    {
     "data": {
      "text/plain": [
       "array([0, 0, 0, 0, 0, 0, 0, 0, 0, 0], dtype=int32)"
      ]
     },
     "execution_count": 24,
     "metadata": {},
     "output_type": "execute_result"
    }
   ],
   "source": [
    "prediction[:10]"
   ]
  },
  {
   "cell_type": "code",
   "execution_count": 25,
   "metadata": {},
   "outputs": [
    {
     "data": {
      "text/plain": [
       "1458390     0\n",
       "12294570    1\n",
       "9584060     0\n",
       "11710580    0\n",
       "18969580    0\n",
       "1417570     1\n",
       "18133700    1\n",
       "7810870     0\n",
       "11390820    0\n",
       "12055660    0\n",
       "Name: drought, dtype: int32"
      ]
     },
     "execution_count": 25,
     "metadata": {},
     "output_type": "execute_result"
    }
   ],
   "source": [
    "y_test['drought'][:10]"
   ]
  },
  {
   "cell_type": "markdown",
   "metadata": {},
   "source": [
    "## Accuracy"
   ]
  },
  {
   "cell_type": "code",
   "execution_count": 26,
   "metadata": {},
   "outputs": [],
   "source": [
    "accuracy_decision_tree=accuracy_score(y_true = y_test, y_pred = prediction)"
   ]
  },
  {
   "cell_type": "code",
   "execution_count": 27,
   "metadata": {},
   "outputs": [
    {
     "data": {
      "text/plain": [
       "0.9358064734103656"
      ]
     },
     "execution_count": 27,
     "metadata": {},
     "output_type": "execute_result"
    }
   ],
   "source": [
    "accuracy_decision_tree"
   ]
  },
  {
   "cell_type": "code",
   "execution_count": 28,
   "metadata": {},
   "outputs": [],
   "source": [
    "cm1=confusion_matrix(y_true=y_test,y_pred=prediction)"
   ]
  },
  {
   "cell_type": "code",
   "execution_count": 29,
   "metadata": {},
   "outputs": [
    {
     "data": {
      "text/plain": [
       "array([[290727,     65],\n",
       "       [ 19885,    102]], dtype=int64)"
      ]
     },
     "execution_count": 29,
     "metadata": {},
     "output_type": "execute_result"
    }
   ],
   "source": [
    "cm1"
   ]
  },
  {
   "cell_type": "code",
   "execution_count": 92,
   "metadata": {},
   "outputs": [],
   "source": [
    "from sklearn.metrics import ConfusionMatrixDisplay"
   ]
  },
  {
   "cell_type": "code",
   "execution_count": 96,
   "metadata": {
    "scrolled": true
   },
   "outputs": [
    {
     "data": {
      "image/png": "[encoded data removed]",
      "text/plain": [
       "<Figure size 432x288 with 2 Axes>"
      ]
     },
     "metadata": {
      "needs_background": "light"
     },
     "output_type": "display_data"
    }
   ],
   "source": [
    "xm_display = ConfusionMatrixDisplay(cm1).plot()"
   ]
  },
  {
   "cell_type": "code",
   "execution_count": 30,
   "metadata": {},
   "outputs": [],
   "source": [
    "FP = cm1[1][0]\n",
    "FN = cm1[0][1]\n",
    "TP = cm1[0][0]\n",
    "TN = cm1[1][1]\n",
    "\n",
    "TPR = TP/(TP+FN)\n",
    "TNR = TN/(TN+FP) \n",
    "PPV = TP/(TP+FP)\n",
    "NPV = TN/(TN+FN)\n",
    "FPR = FP/(FP+TN)\n",
    "FNR = FN/(TP+FN)\n",
    "FDR = FP/(TP+FP)\n",
    "ACC = (TP+TN)/(TP+FP+FN+TN)"
   ]
  },
  {
   "cell_type": "code",
   "execution_count": 31,
   "metadata": {},
   "outputs": [
    {
     "data": {
      "text/plain": [
       "0.9997764725301934"
      ]
     },
     "execution_count": 31,
     "metadata": {},
     "output_type": "execute_result"
    }
   ],
   "source": [
    "TPR"
   ]
  },
  {
   "cell_type": "code",
   "execution_count": 32,
   "metadata": {},
   "outputs": [
    {
     "data": {
      "text/plain": [
       "0.005103317156151498"
      ]
     },
     "execution_count": 32,
     "metadata": {},
     "output_type": "execute_result"
    }
   ],
   "source": [
    "TNR"
   ]
  },
  {
   "cell_type": "code",
   "execution_count": 33,
   "metadata": {},
   "outputs": [
    {
     "data": {
      "text/plain": [
       "0.9358064734103656"
      ]
     },
     "execution_count": 33,
     "metadata": {},
     "output_type": "execute_result"
    }
   ],
   "source": [
    "ACC"
   ]
  },
  {
   "cell_type": "code",
   "execution_count": 34,
   "metadata": {},
   "outputs": [
    {
     "data": {
      "text/plain": [
       "0.9359812241639087"
      ]
     },
     "execution_count": 34,
     "metadata": {},
     "output_type": "execute_result"
    }
   ],
   "source": [
    "PPV"
   ]
  },
  {
   "cell_type": "code",
   "execution_count": 35,
   "metadata": {},
   "outputs": [
    {
     "data": {
      "text/plain": [
       "(array([0.93598122, 0.61077844]),\n",
       " array([0.99977647, 0.00510332]),\n",
       " array([0.96682762, 0.01012206]),\n",
       " array([290792,  19987], dtype=int64))"
      ]
     },
     "execution_count": 35,
     "metadata": {},
     "output_type": "execute_result"
    }
   ],
   "source": [
    "precision_recall_fscore_support(y_true=y_test, y_pred=prediction)"
   ]
  },
  {
   "cell_type": "code",
   "execution_count": 130,
   "metadata": {},
   "outputs": [
    {
     "name": "stdout",
     "output_type": "stream",
     "text": [
      "              precision    recall  f1-score   support\n",
      "\n",
      "           1       0.94      1.00      0.97    290792\n",
      "           2       0.61      0.01      0.01     19987\n",
      "\n",
      "    accuracy                           0.94    310779\n",
      "   macro avg       0.77      0.50      0.49    310779\n",
      "weighted avg       0.92      0.94      0.91    310779\n",
      "\n"
     ]
    }
   ],
   "source": [
    "target_names = ['1','2']\n",
    "print(classification_report(y_true=y_test, y_pred=prediction, target_names=target_names))"
   ]
  },
  {
   "cell_type": "code",
   "execution_count": 60,
   "metadata": {},
   "outputs": [],
   "source": [
    "from sklearn.metrics import roc_curve, auc\n",
    "from sklearn.metrics import roc_auc_score"
   ]
  },
  {
   "cell_type": "code",
   "execution_count": 111,
   "metadata": {},
   "outputs": [
    {
     "data": {
      "image/png": "[encoded data removed]",
      "text/plain": [
       "<Figure size 360x360 with 1 Axes>"
      ]
     },
     "metadata": {},
     "output_type": "display_data"
    }
   ],
   "source": [
    "from plot_metric.functions import BinaryClassification\n",
    "# Visualisation with plot_metric\n",
    "bc = BinaryClassification(y_test, prediction, labels=[\"Class 1\", \"Class 2\"])\n",
    "\n",
    "# Figures\n",
    "plt.figure(figsize=(5,5))\n",
    "bc.plot_roc_curve()\n",
    "plt.show()"
   ]
  },
  {
   "cell_type": "markdown",
   "metadata": {},
   "source": [
    "## Random Forest"
   ]
  },
  {
   "cell_type": "code",
   "execution_count": 37,
   "metadata": {},
   "outputs": [
    {
     "data": {
      "text/plain": [
       "RandomForestClassifier(n_estimators=30, random_state=350)"
      ]
     },
     "execution_count": 37,
     "metadata": {},
     "output_type": "execute_result"
    }
   ],
   "source": [
    "y = y_train.values.ravel()\n",
    "drought_forest= RandomForestClassifier(n_estimators=30, random_state = 350)\n",
    "drought_forest.fit(X_train, y)\n"
   ]
  },
  {
   "cell_type": "code",
   "execution_count": 38,
   "metadata": {},
   "outputs": [],
   "source": [
    "prediction_forest=drought_forest.predict(X_test)"
   ]
  },
  {
   "cell_type": "code",
   "execution_count": 39,
   "metadata": {},
   "outputs": [],
   "source": [
    "accuracy_random_forest=accuracy_score(y_true = y_test, y_pred = prediction_forest)"
   ]
  },
  {
   "cell_type": "code",
   "execution_count": 40,
   "metadata": {},
   "outputs": [
    {
     "data": {
      "text/plain": [
       "0.9620212433916062"
      ]
     },
     "execution_count": 40,
     "metadata": {},
     "output_type": "execute_result"
    }
   ],
   "source": [
    "accuracy_random_forest"
   ]
  },
  {
   "cell_type": "code",
   "execution_count": 41,
   "metadata": {},
   "outputs": [],
   "source": [
    "cm2=confusion_matrix(y_true=y_test,y_pred=prediction_forest)"
   ]
  },
  {
   "cell_type": "code",
   "execution_count": 42,
   "metadata": {},
   "outputs": [
    {
     "data": {
      "text/plain": [
       "array([[290264,    528],\n",
       "       [ 11275,   8712]], dtype=int64)"
      ]
     },
     "execution_count": 42,
     "metadata": {},
     "output_type": "execute_result"
    }
   ],
   "source": [
    "cm2"
   ]
  },
  {
   "cell_type": "code",
   "execution_count": 95,
   "metadata": {},
   "outputs": [
    {
     "data": {
      "image/png": "[encoded data removed]",
      "text/plain": [
       "<Figure size 432x288 with 2 Axes>"
      ]
     },
     "metadata": {
      "needs_background": "light"
     },
     "output_type": "display_data"
    }
   ],
   "source": [
    "cm_display = ConfusionMatrixDisplay(cm2).plot()"
   ]
  },
  {
   "cell_type": "code",
   "execution_count": 43,
   "metadata": {},
   "outputs": [],
   "source": [
    "FP1 = cm2[1][0]\n",
    "FN1 = cm2[0][1]\n",
    "TP1 = cm2[0][0]\n",
    "TN1 = cm2[1][1]\n",
    "\n",
    "TPR1 = TP1/(TP1+FN1)\n",
    "TNR1 = TN1/(TN1+FP1) \n",
    "PPV1 = TP1/(TP1+FP1)\n",
    "NPV1 = TN1/(TN1+FN1)\n",
    "FPR1 = FP1/(FP1+TN1)\n",
    "FNR1 = FN1/(TP1+FN1)\n",
    "FDR1 = FP1/(TP1+FP1)\n",
    "ACC1 = (TP1+TN1)/(TP1+FP1+FN1+TN1)"
   ]
  },
  {
   "cell_type": "code",
   "execution_count": 44,
   "metadata": {},
   "outputs": [
    {
     "data": {
      "text/plain": [
       "0.9981842691683402"
      ]
     },
     "execution_count": 44,
     "metadata": {},
     "output_type": "execute_result"
    }
   ],
   "source": [
    "TPR1"
   ]
  },
  {
   "cell_type": "code",
   "execution_count": 45,
   "metadata": {},
   "outputs": [
    {
     "data": {
      "text/plain": [
       "0.43588332416070447"
      ]
     },
     "execution_count": 45,
     "metadata": {},
     "output_type": "execute_result"
    }
   ],
   "source": [
    "TNR1"
   ]
  },
  {
   "cell_type": "code",
   "execution_count": 82,
   "metadata": {},
   "outputs": [
    {
     "data": {
      "text/plain": [
       "0.9626084851379092"
      ]
     },
     "execution_count": 82,
     "metadata": {},
     "output_type": "execute_result"
    }
   ],
   "source": [
    "PPV1"
   ]
  },
  {
   "cell_type": "code",
   "execution_count": 81,
   "metadata": {},
   "outputs": [
    {
     "data": {
      "text/plain": [
       "0.9620212433916062"
      ]
     },
     "execution_count": 81,
     "metadata": {},
     "output_type": "execute_result"
    }
   ],
   "source": [
    "ACC1"
   ]
  },
  {
   "cell_type": "code",
   "execution_count": 48,
   "metadata": {},
   "outputs": [
    {
     "data": {
      "text/plain": [
       "(array([0.96260849, 0.94285714]),\n",
       " array([0.99818427, 0.43588332]),\n",
       " array([0.98007364, 0.59616108]),\n",
       " array([290792,  19987], dtype=int64))"
      ]
     },
     "execution_count": 48,
     "metadata": {},
     "output_type": "execute_result"
    }
   ],
   "source": [
    "precision_recall_fscore_support(y_true=y_test, y_pred=prediction_forest)"
   ]
  },
  {
   "cell_type": "code",
   "execution_count": 129,
   "metadata": {},
   "outputs": [
    {
     "name": "stdout",
     "output_type": "stream",
     "text": [
      "              precision    recall  f1-score   support\n",
      "\n",
      "           1       0.96      1.00      0.98    290792\n",
      "           2       0.94      0.44      0.60     19987\n",
      "\n",
      "    accuracy                           0.96    310779\n",
      "   macro avg       0.95      0.72      0.79    310779\n",
      "weighted avg       0.96      0.96      0.96    310779\n",
      "\n"
     ]
    }
   ],
   "source": [
    "target_names = ['1','2']\n",
    "print(classification_report(y_true=y_test, y_pred=prediction_forest, target_names=target_names))"
   ]
  },
  {
   "cell_type": "code",
   "execution_count": 128,
   "metadata": {},
   "outputs": [],
   "source": [
    "from sklearn.metrics import precision_recall_curve\n",
    "from sklearn.metrics import PrecisionRecallDisplay"
   ]
  },
  {
   "cell_type": "code",
   "execution_count": 106,
   "metadata": {},
   "outputs": [],
   "source": [
    "from sklearn import metrics"
   ]
  },
  {
   "cell_type": "code",
   "execution_count": 109,
   "metadata": {},
   "outputs": [
    {
     "data": {
      "image/png": "[encoded data removed]",
      "text/plain": [
       "<Figure size 360x360 with 1 Axes>"
      ]
     },
     "metadata": {},
     "output_type": "display_data"
    }
   ],
   "source": [
    "from plot_metric.functions import BinaryClassification\n",
    "# Visualisation with plot_metric\n",
    "bc = BinaryClassification(y_test, prediction_forest, labels=[\"Class 1\", \"Class 2\"])\n",
    "\n",
    "# Figures\n",
    "plt.figure(figsize=(5,5))\n",
    "bc.plot_roc_curve()\n",
    "plt.show()"
   ]
  },
  {
   "cell_type": "markdown",
   "metadata": {},
   "source": [
    "## ROC curve"
   ]
  },
  {
   "cell_type": "code",
   "execution_count": 118,
   "metadata": {},
   "outputs": [],
   "source": [
    "from sklearn.metrics import plot_roc_curve"
   ]
  },
  {
   "cell_type": "code",
   "execution_count": 119,
   "metadata": {},
   "outputs": [
    {
     "data": {
      "image/png": "[encoded data removed]",
      "text/plain": [
       "<Figure size 432x288 with 1 Axes>"
      ]
     },
     "metadata": {},
     "output_type": "display_data"
    }
   ],
   "source": [
    "#RANDOm forest ROC curve\n",
    "ax = plt.gca()\n",
    "rfc_disp = plot_roc_curve(drought_forest, X_test, y_test, ax=ax, alpha=0.8)\n"
   ]
  },
  {
   "cell_type": "code",
   "execution_count": 121,
   "metadata": {},
   "outputs": [
    {
     "data": {
      "image/png": "[encoded data removed]",
      "text/plain": [
       "<Figure size 432x288 with 1 Axes>"
      ]
     },
     "metadata": {},
     "output_type": "display_data"
    }
   ],
   "source": [
    "#DECISION TREE ROC CURVE\n",
    "ax = plt.gca()\n",
    "rfc_disp = plot_roc_curve(drought_classifier, X_test, y_test, ax=ax, alpha=0.8)\n"
   ]
  },
  {
   "cell_type": "code",
   "execution_count": null,
   "metadata": {},
   "outputs": [],
   "source": []
  },
  {
   "cell_type": "code",
   "execution_count": 112,
   "metadata": {},
   "outputs": [],
   "source": [
    "from sklearn.metrics import precision_recall_curve\n",
    "from sklearn.metrics import plot_precision_recall_curve"
   ]
  },
  {
   "cell_type": "markdown",
   "metadata": {},
   "source": [
    "## precision-Recall curve"
   ]
  },
  {
   "cell_type": "code",
   "execution_count": 124,
   "metadata": {},
   "outputs": [
    {
     "data": {
      "text/plain": [
       "Text(0.5, 1.0, '2-class Precision-Recall curve: AP=0.45')"
      ]
     },
     "execution_count": 124,
     "metadata": {},
     "output_type": "execute_result"
    },
    {
     "data": {
      "image/png": "[encoded data removed]",
      "text/plain": [
       "<Figure size 432x288 with 1 Axes>"
      ]
     },
     "metadata": {},
     "output_type": "display_data"
    }
   ],
   "source": [
    "from sklearn.metrics import precision_recall_curve\n",
    "from sklearn.metrics import plot_precision_recall_curve\n",
    "import matplotlib.pyplot as plt\n",
    "\n",
    "disp = plot_precision_recall_curve(drought_forest, X_test, y_test)\n",
    "disp.ax_.set_title('2-class Precision-Recall curve: '\n",
    "                   'AP={0:0.2f}'.format(average_precision))"
   ]
  },
  {
   "cell_type": "code",
   "execution_count": 125,
   "metadata": {},
   "outputs": [
    {
     "name": "stdout",
     "output_type": "stream",
     "text": [
      "Average precision-recall score: 0.07\n"
     ]
    }
   ],
   "source": [
    "#Decision tree Precision recall curve\n",
    "average_precision = average_precision_score(y_test,prediction)\n",
    "print('Average precision-recall score: {0:0.2f}'.format(\n",
    "      average_precision))"
   ]
  },
  {
   "cell_type": "code",
   "execution_count": 126,
   "metadata": {},
   "outputs": [
    {
     "data": {
      "text/plain": [
       "Text(0.5, 1.0, '2-class Precision-Recall curve: AP=0.07')"
      ]
     },
     "execution_count": 126,
     "metadata": {},
     "output_type": "execute_result"
    },
    {
     "data": {
      "image/png": "[encoded data removed]",
      "text/plain": [
       "<Figure size 432x288 with 1 Axes>"
      ]
     },
     "metadata": {},
     "output_type": "display_data"
    }
   ],
   "source": [
    "disp = plot_precision_recall_curve(drought_classifier, X_test, y_test)\n",
    "disp.ax_.set_title('2-class Precision-Recall curve: '\n",
    "                   'AP={0:0.2f}'.format(average_precision))"
   ]
  },
  {
   "cell_type": "code",
   "execution_count": 139,
   "metadata": {},
   "outputs": [
    {
     "data": {
      "image/png": "[encoded data removed]",
      "text/plain": [
       "<Figure size 720x1440 with 1 Axes>"
      ]
     },
     "metadata": {},
     "output_type": "display_data"
    }
   ],
   "source": [
    "  from sklearn import tree\n",
    "  fig = plt.figure(figsize=(10,20))\n",
    "  tree.plot_tree(drought_classifier,filled=True)  \n",
    " \n",
    "  plt.show()"
   ]
  },
  {
   "cell_type": "code",
   "execution_count": null,
   "metadata": {},
   "outputs": [],
   "source": []
  },
  {
   "cell_type": "code",
   "execution_count": null,
   "metadata": {},
   "outputs": [],
   "source": []
  }
 ],
 "metadata": {
  "kernelspec": {
   "display_name": "Python 3",
   "language": "python",
   "name": "python3"
  },
  "language_info": {
   "codemirror_mode": {
    "name": "ipython",
    "version": 3
   },
   "file_extension": ".py",
   "mimetype": "text/x-python",
   "name": "python",
   "nbconvert_exporter": "python",
   "pygments_lexer": "ipython3",
   "version": "3.8.5"
  }
 },
 "nbformat": 4,
 "nbformat_minor": 4
}
